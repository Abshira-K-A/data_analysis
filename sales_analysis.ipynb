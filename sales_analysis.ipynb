{
 "cells": [
  {
   "cell_type": "code",
   "execution_count": 19,
   "id": "02d817c8-af4b-46de-8fea-8cb1a0ea0504",
   "metadata": {},
   "outputs": [],
   "source": [
    "import pandas as pd\n",
    "import matplotlib.pyplot as plt\n"
   ]
  },
  {
   "cell_type": "code",
   "execution_count": 20,
   "id": "b247711a-5f28-43a1-a99a-d3b52f174ad8",
   "metadata": {},
   "outputs": [
    {
     "data": {
      "text/html": [
       "<div>\n",
       "<style scoped>\n",
       "    .dataframe tbody tr th:only-of-type {\n",
       "        vertical-align: middle;\n",
       "    }\n",
       "\n",
       "    .dataframe tbody tr th {\n",
       "        vertical-align: top;\n",
       "    }\n",
       "\n",
       "    .dataframe thead th {\n",
       "        text-align: right;\n",
       "    }\n",
       "</style>\n",
       "<table border=\"1\" class=\"dataframe\">\n",
       "  <thead>\n",
       "    <tr style=\"text-align: right;\">\n",
       "      <th></th>\n",
       "      <th>orderId</th>\n",
       "      <th>Date</th>\n",
       "      <th>product</th>\n",
       "      <th>category</th>\n",
       "      <th>sales</th>\n",
       "      <th>profit</th>\n",
       "      <th>region</th>\n",
       "    </tr>\n",
       "  </thead>\n",
       "  <tbody>\n",
       "    <tr>\n",
       "      <th>0</th>\n",
       "      <td>1001</td>\n",
       "      <td>1/11/2023</td>\n",
       "      <td>phone</td>\n",
       "      <td>electronics</td>\n",
       "      <td>500</td>\n",
       "      <td>120</td>\n",
       "      <td>south</td>\n",
       "    </tr>\n",
       "    <tr>\n",
       "      <th>1</th>\n",
       "      <td>1002</td>\n",
       "      <td>1/5/2023</td>\n",
       "      <td>laptop</td>\n",
       "      <td>electronics</td>\n",
       "      <td>1200</td>\n",
       "      <td>300</td>\n",
       "      <td>north</td>\n",
       "    </tr>\n",
       "    <tr>\n",
       "      <th>2</th>\n",
       "      <td>1003</td>\n",
       "      <td>1/9/2023</td>\n",
       "      <td>book</td>\n",
       "      <td>stationery</td>\n",
       "      <td>150</td>\n",
       "      <td>50</td>\n",
       "      <td>west</td>\n",
       "    </tr>\n",
       "    <tr>\n",
       "      <th>3</th>\n",
       "      <td>1004</td>\n",
       "      <td>1/8/2023</td>\n",
       "      <td>pen</td>\n",
       "      <td>stationary</td>\n",
       "      <td>700</td>\n",
       "      <td>100</td>\n",
       "      <td>east</td>\n",
       "    </tr>\n",
       "    <tr>\n",
       "      <th>4</th>\n",
       "      <td>1005</td>\n",
       "      <td>1/7/2023</td>\n",
       "      <td>desk</td>\n",
       "      <td>furniture</td>\n",
       "      <td>30</td>\n",
       "      <td>10</td>\n",
       "      <td>west</td>\n",
       "    </tr>\n",
       "  </tbody>\n",
       "</table>\n",
       "</div>"
      ],
      "text/plain": [
       "   orderId       Date product     category  sales  profit region\n",
       "0     1001  1/11/2023   phone  electronics    500     120  south\n",
       "1     1002   1/5/2023  laptop  electronics   1200     300  north\n",
       "2     1003   1/9/2023    book   stationery    150      50   west\n",
       "3     1004   1/8/2023     pen   stationary    700     100   east\n",
       "4     1005   1/7/2023    desk    furniture     30      10   west"
      ]
     },
     "execution_count": 20,
     "metadata": {},
     "output_type": "execute_result"
    }
   ],
   "source": [
    "data = pd.read_csv(\"sales_data.csv\")\n",
    "data\n",
    "data.head()  #general info about data"
   ]
  },
  {
   "cell_type": "code",
   "execution_count": 21,
   "id": "a755436f-a01c-4766-8d61-435931f14e97",
   "metadata": {},
   "outputs": [
    {
     "data": {
      "text/html": [
       "<div>\n",
       "<style scoped>\n",
       "    .dataframe tbody tr th:only-of-type {\n",
       "        vertical-align: middle;\n",
       "    }\n",
       "\n",
       "    .dataframe tbody tr th {\n",
       "        vertical-align: top;\n",
       "    }\n",
       "\n",
       "    .dataframe thead th {\n",
       "        text-align: right;\n",
       "    }\n",
       "</style>\n",
       "<table border=\"1\" class=\"dataframe\">\n",
       "  <thead>\n",
       "    <tr style=\"text-align: right;\">\n",
       "      <th></th>\n",
       "      <th>orderId</th>\n",
       "      <th>sales</th>\n",
       "      <th>profit</th>\n",
       "    </tr>\n",
       "  </thead>\n",
       "  <tbody>\n",
       "    <tr>\n",
       "      <th>count</th>\n",
       "      <td>7.000000</td>\n",
       "      <td>7.000000</td>\n",
       "      <td>7.000000</td>\n",
       "    </tr>\n",
       "    <tr>\n",
       "      <th>mean</th>\n",
       "      <td>1004.000000</td>\n",
       "      <td>498.571429</td>\n",
       "      <td>124.285714</td>\n",
       "    </tr>\n",
       "    <tr>\n",
       "      <th>std</th>\n",
       "      <td>2.160247</td>\n",
       "      <td>448.234632</td>\n",
       "      <td>97.443512</td>\n",
       "    </tr>\n",
       "    <tr>\n",
       "      <th>min</th>\n",
       "      <td>1001.000000</td>\n",
       "      <td>30.000000</td>\n",
       "      <td>10.000000</td>\n",
       "    </tr>\n",
       "    <tr>\n",
       "      <th>25%</th>\n",
       "      <td>1002.500000</td>\n",
       "      <td>100.000000</td>\n",
       "      <td>70.000000</td>\n",
       "    </tr>\n",
       "    <tr>\n",
       "      <th>50%</th>\n",
       "      <td>1004.000000</td>\n",
       "      <td>500.000000</td>\n",
       "      <td>100.000000</td>\n",
       "    </tr>\n",
       "    <tr>\n",
       "      <th>75%</th>\n",
       "      <td>1005.500000</td>\n",
       "      <td>780.000000</td>\n",
       "      <td>160.000000</td>\n",
       "    </tr>\n",
       "    <tr>\n",
       "      <th>max</th>\n",
       "      <td>1007.000000</td>\n",
       "      <td>1200.000000</td>\n",
       "      <td>300.000000</td>\n",
       "    </tr>\n",
       "  </tbody>\n",
       "</table>\n",
       "</div>"
      ],
      "text/plain": [
       "           orderId        sales      profit\n",
       "count     7.000000     7.000000    7.000000\n",
       "mean   1004.000000   498.571429  124.285714\n",
       "std       2.160247   448.234632   97.443512\n",
       "min    1001.000000    30.000000   10.000000\n",
       "25%    1002.500000   100.000000   70.000000\n",
       "50%    1004.000000   500.000000  100.000000\n",
       "75%    1005.500000   780.000000  160.000000\n",
       "max    1007.000000  1200.000000  300.000000"
      ]
     },
     "execution_count": 21,
     "metadata": {},
     "output_type": "execute_result"
    }
   ],
   "source": [
    "data.describe() # summary statistics"
   ]
  },
  {
   "cell_type": "code",
   "execution_count": 22,
   "id": "ca67ef30-b8da-41e2-b887-5fa6f7b6fd55",
   "metadata": {},
   "outputs": [
    {
     "data": {
      "text/plain": [
       "(7, 7)"
      ]
     },
     "execution_count": 22,
     "metadata": {},
     "output_type": "execute_result"
    }
   ],
   "source": [
    "data.shape # shape of the data"
   ]
  },
  {
   "cell_type": "code",
   "execution_count": 23,
   "id": "09c0fdb5-4097-47bd-bd7c-356a7f74727e",
   "metadata": {},
   "outputs": [
    {
     "data": {
      "text/plain": [
       "orderId     0\n",
       "Date        0\n",
       "product     0\n",
       "category    0\n",
       "sales       0\n",
       "profit      0\n",
       "region      0\n",
       "dtype: int64"
      ]
     },
     "execution_count": 23,
     "metadata": {},
     "output_type": "execute_result"
    }
   ],
   "source": [
    "data.isnull().sum() # to find the missing data"
   ]
  },
  {
   "cell_type": "code",
   "execution_count": 24,
   "id": "84e08e7d-363b-40e0-b773-afcb921ce8a3",
   "metadata": {},
   "outputs": [
    {
     "data": {
      "text/plain": [
       "category\n",
       "furniture        30\n",
       "stationery      150\n",
       "stationary      750\n",
       "electronics    2560\n",
       "Name: sales, dtype: int64"
      ]
     },
     "execution_count": 24,
     "metadata": {},
     "output_type": "execute_result"
    }
   ],
   "source": [
    "category = data.groupby(\"category\")[\"sales\"].sum().sort_values(ascending = True) # group by category and sum sales\n",
    "category"
   ]
  },
  {
   "cell_type": "code",
   "execution_count": 25,
   "id": "98360f9b-f05e-4a8e-9ff6-342d034d1ebe",
   "metadata": {},
   "outputs": [
    {
     "data": {
      "text/plain": [
       "region\n",
       "west      60\n",
       "south    120\n",
       "east     300\n",
       "north    390\n",
       "Name: profit, dtype: int64"
      ]
     },
     "execution_count": 25,
     "metadata": {},
     "output_type": "execute_result"
    }
   ],
   "source": [
    "# total profit \n",
    "profit = data.groupby(\"region\")[\"profit\"].sum().sort_values(ascending = True)\n",
    "profit"
   ]
  },
  {
   "cell_type": "code",
   "execution_count": 28,
   "id": "a171d0a8-ae7e-466b-b50f-72c8671dd607",
   "metadata": {},
   "outputs": [
    {
     "data": {
      "image/png": "[encoded data removed]",
      "text/plain": [
       "<Figure size 800x500 with 1 Axes>"
      ]
     },
     "metadata": {},
     "output_type": "display_data"
    }
   ],
   "source": [
    "# plotting sales by category\n",
    "plt.figure(figsize = (8,5))\n",
    "category.plot(kind = 'bar', color = 'purple')\n",
    "plt.title(\"total sales by category\")\n",
    "plt.xlabel(\"category\")\n",
    "plt.ylabel(\"sales\")\n",
    "plt.xticks(rotation= 45)\n",
    "plt.tight_layout()\n",
    "plt.show()"
   ]
  },
  {
   "cell_type": "code",
   "execution_count": 30,
   "id": "39fe0d02-3ca4-43aa-8781-736fa0a104f8",
   "metadata": {},
   "outputs": [
    {
     "name": "stdout",
     "output_type": "stream",
     "text": [
      "data analysis completed\n"
     ]
    }
   ],
   "source": [
    "print(\"data analysis completed\")"
   ]
  },
  {
   "cell_type": "code",
   "execution_count": null,
   "id": "79645305-3ce2-4538-920c-1d6a1120a717",
   "metadata": {},
   "outputs": [],
   "source": []
  }
 ],
 "metadata": {
  "kernelspec": {
   "display_name": "Python 3 (ipykernel)",
   "language": "python",
   "name": "python3"
  },
  "language_info": {
   "codemirror_mode": {
    "name": "ipython",
    "version": 3
   },
   "file_extension": ".py",
   "mimetype": "text/x-python",
   "name": "python",
   "nbconvert_exporter": "python",
   "pygments_lexer": "ipython3",
   "version": "3.12.7"
  }
 },
 "nbformat": 4,
 "nbformat_minor": 5
}
